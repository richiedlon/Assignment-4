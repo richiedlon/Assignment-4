{
 "cells": [
  {
   "cell_type": "markdown",
   "id": "f7fd1910",
   "metadata": {},
   "source": [
    "Import functions from other python files and relevent packages"
   ]
  },
  {
   "cell_type": "code",
   "execution_count": null,
   "id": "0d069e26",
   "metadata": {},
   "outputs": [],
   "source": [
    "import os\n",
    "os.chdir('C://Users//HP//Documents//Assignment 4')\n",
    "from ExtractMetaData import *\n",
    "from clip_withBB_function import *\n",
    "from clip_withSHP_function import *\n",
    "from writeRasterFunction import *"
   ]
  },
  {
   "cell_type": "code",
   "execution_count": null,
   "id": "f5ac26fe",
   "metadata": {},
   "outputs": [],
   "source": [
    "current_directory = os.getcwd()\n",
    "print (current_directory)"
   ]
  },
  {
   "cell_type": "markdown",
   "id": "31fec5b9",
   "metadata": {},
   "source": [
    "Function 1 - Get the meta data from the sentinel 1 image dataset"
   ]
  },
  {
   "cell_type": "code",
   "execution_count": null,
   "id": "9406c358",
   "metadata": {},
   "outputs": [],
   "source": [
    "image_name = 'S1A_IW_GRDH_1SDV_20210601T045721_20210601T045746_038467_048DE7_B9B8'\n",
    "metadataList = get_S1_metadata(image_name)\n",
    "help(get_S1_metadata)\n",
    "\n",
    "for key, value in metadataList.items():\n",
    "    print(key, value)"
   ]
  },
  {
   "cell_type": "markdown",
   "id": "bb9438ce",
   "metadata": {},
   "source": [
    "Function 2 and 4 - Clip a raster from bounding box and save to a location"
   ]
  },
  {
   "cell_type": "code",
   "execution_count": null,
   "id": "74c26ed9",
   "metadata": {},
   "outputs": [],
   "source": [
    "# Clip a raster file with a bounding box\n",
    "\n",
    "# Downlaod link for the Landsat image sample \n",
    "'''\n",
    "https://plusacat-my.sharepoint.com/:f:/g/personal/ekanayaka_ekanayaka_stud_plus_ac_at/EoFv8BlHbaFImCStyC-hFm8BhOxEFKQulO-idKT0lc2zHQ?e=RndzA4\n",
    "'''\n",
    "            \n",
    "rasterLocation = \"LC08_L2SP_191027_20220720_20220726_02_T1/LC08_L2SP_191027_20220720_20220726_02_T1_ST_B10.TIF\"\n",
    "outputLocation2 = \"output/clippedWithBB.tif\"\n",
    "\n",
    "minx, miny = 13.490206, 48.3355\n",
    "maxx, maxy = 14.076421, 48.007881\n",
    "\n",
    "result2=clipRasterBB(rasterLocation,[minx,miny,maxx,maxy])\n",
    "writeRaster(result2[0],result2[1],outputLocation2)"
   ]
  },
  {
   "cell_type": "markdown",
   "id": "65c4ee2b",
   "metadata": {},
   "source": [
    "Function 3 and 4 - Clip a raster from a shape file and save to a location"
   ]
  },
  {
   "cell_type": "code",
   "execution_count": null,
   "id": "4a5c3a63",
   "metadata": {},
   "outputs": [],
   "source": [
    "# Clip a raster file with a shapefile\n",
    "\n",
    "L8_B10 = \"LC08_L2SP_191027_20220720_20220726_02_T1/LC08_L2SP_191027_20220720_20220726_02_T1_ST_B10.TIF\"\n",
    "shpLocation= \"AOI/AOI.shp\"\n",
    "outputLocation1 = \"output/clippedWithSHP.tif\"\n",
    "\n",
    "result1=clipRasterSHP(L8_B10,shpLocation)\n",
    "writeRaster(result1[0],result1[1],outputLocation1)"
   ]
  }
 ],
 "metadata": {
  "kernelspec": {
   "display_name": "Python 3 (ipykernel)",
   "language": "python",
   "name": "python3"
  },
  "language_info": {
   "codemirror_mode": {
    "name": "ipython",
    "version": 3
   },
   "file_extension": ".py",
   "mimetype": "text/x-python",
   "name": "python",
   "nbconvert_exporter": "python",
   "pygments_lexer": "ipython3",
   "version": "3.9.16"
  }
 },
 "nbformat": 4,
 "nbformat_minor": 5
}
